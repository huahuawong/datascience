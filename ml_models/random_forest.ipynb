{
 "cells": [
  {
   "cell_type": "markdown",
   "metadata": {},
   "source": [
    "### Random Forest is a model that can be used for both regression and classification. Why is it called random forest? Think of it as a tree of decisions that combine together to get a more accurate prediction.\n",
    "\n",
    "### For instance, say, given an animal dataset with a set of features (has claws, has whiskers, tail length etc.), you want to classify if it's a cat or dog. Using a random forest, the model would start examining these features and infer if it's a cat or doggo.\n",
    "\n",
    "### RF is regarded as an ensemble learning model, that means it consists of multiple 'weaker' ML models and allows it to achieve better performance. You might think RF is very similar to decision trees, it is, but in RF case, the process is random, where you have no control over which feature to use for inference.\n",
    "\n",
    "### When do we use RF over DT then?\n",
    "* In general, if RF is less likely to overfit, so use it to avoid overfitting. Bear in mind there is still possibility that it'd overfit due to the hyperparameters.\n",
    "* RF in general has better accuracy than DT"
   ]
  },
  {
   "cell_type": "code",
   "execution_count": null,
   "metadata": {},
   "outputs": [],
   "source": []
  }
 ],
 "metadata": {
  "kernelspec": {
   "display_name": "Python [conda env:PythonCPU]",
   "language": "python",
   "name": "conda-env-PythonCPU-py"
  },
  "language_info": {
   "codemirror_mode": {
    "name": "ipython",
    "version": 3
   },
   "file_extension": ".py",
   "mimetype": "text/x-python",
   "name": "python",
   "nbconvert_exporter": "python",
   "pygments_lexer": "ipython3",
   "version": "3.7.3"
  }
 },
 "nbformat": 4,
 "nbformat_minor": 4
}
